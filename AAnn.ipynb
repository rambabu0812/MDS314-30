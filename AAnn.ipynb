{
 "cells": [
  {
   "cell_type": "code",
   "execution_count": 13,
   "id": "31ce36a4-87c3-4f0c-96e0-f617d10b90dd",
   "metadata": {},
   "outputs": [
    {
     "name": "stdout",
     "output_type": "stream",
     "text": [
      "Autoassociative Neural Network (Hebb Rule, Outer Product)\n",
      "Training on digits 0–9...\n",
      "Training complete. Weights saved to hebb_digits.npy\n"
     ]
    },
    {
     "name": "stdin",
     "output_type": "stream",
     "text": [
      "\n",
      "Enter a digit (0–9) to test or Q to quit:  2\n"
     ]
    },
    {
     "name": "stdout",
     "output_type": "stream",
     "text": [
      "\n",
      "Input pattern:\n",
      ".###.\n",
      "#...#\n",
      "....#\n",
      "...#.\n",
      "..#..\n",
      ".#...\n",
      "#####\n",
      "\n",
      "Output pattern:\n",
      ".###.\n",
      "#...#\n",
      "....#\n",
      "..##.\n",
      "....#\n",
      "....#\n",
      "####.\n"
     ]
    },
    {
     "name": "stdin",
     "output_type": "stream",
     "text": [
      "\n",
      "Enter a digit (0–9) to test or Q to quit:  0\n"
     ]
    },
    {
     "name": "stdout",
     "output_type": "stream",
     "text": [
      "\n",
      "Input pattern:\n",
      "#####\n",
      "#...#\n",
      "#...#\n",
      "#...#\n",
      "#...#\n",
      "#...#\n",
      "#####\n",
      "\n",
      "Output pattern:\n",
      ".####\n",
      "#...#\n",
      "#...#\n",
      "####.\n",
      "#...#\n",
      "#...#\n",
      "####.\n"
     ]
    },
    {
     "name": "stdin",
     "output_type": "stream",
     "text": [
      "\n",
      "Enter a digit (0–9) to test or Q to quit:  1\n"
     ]
    },
    {
     "name": "stdout",
     "output_type": "stream",
     "text": [
      "\n",
      "Input pattern:\n",
      "..#..\n",
      ".##..\n",
      "..#..\n",
      "..#..\n",
      "..#..\n",
      "..#..\n",
      "..#..\n",
      "\n",
      "Output pattern:\n",
      "..#..\n",
      ".##..\n",
      "..#..\n",
      "..#..\n",
      "..#..\n",
      "..#..\n",
      "..#..\n"
     ]
    },
    {
     "name": "stdin",
     "output_type": "stream",
     "text": [
      "\n",
      "Enter a digit (0–9) to test or Q to quit:  2\n"
     ]
    },
    {
     "name": "stdout",
     "output_type": "stream",
     "text": [
      "\n",
      "Input pattern:\n",
      ".###.\n",
      "#...#\n",
      "....#\n",
      "...#.\n",
      "..#..\n",
      ".#...\n",
      "#####\n",
      "\n",
      "Output pattern:\n",
      ".###.\n",
      "#...#\n",
      "....#\n",
      "..##.\n",
      "....#\n",
      "....#\n",
      "####.\n"
     ]
    },
    {
     "name": "stdin",
     "output_type": "stream",
     "text": [
      "\n",
      "Enter a digit (0–9) to test or Q to quit:  3\n"
     ]
    },
    {
     "name": "stdout",
     "output_type": "stream",
     "text": [
      "\n",
      "Input pattern:\n",
      ".###.\n",
      "#...#\n",
      "....#\n",
      "..##.\n",
      "....#\n",
      "#...#\n",
      ".###.\n",
      "\n",
      "Output pattern:\n",
      ".###.\n",
      "#...#\n",
      "#...#\n",
      ".###.\n",
      "....#\n",
      "#...#\n",
      ".###.\n"
     ]
    },
    {
     "name": "stdin",
     "output_type": "stream",
     "text": [
      "\n",
      "Enter a digit (0–9) to test or Q to quit:  4\n"
     ]
    },
    {
     "name": "stdout",
     "output_type": "stream",
     "text": [
      "\n",
      "Input pattern:\n",
      "....#\n",
      "...##\n",
      "..#.#\n",
      ".#..#\n",
      "#####\n",
      "....#\n",
      "....#\n",
      "\n",
      "Output pattern:\n",
      "....#\n",
      ".####\n",
      ".##.#\n",
      ".#..#\n",
      "#####\n",
      "...##\n",
      "....#\n"
     ]
    },
    {
     "name": "stdin",
     "output_type": "stream",
     "text": [
      "\n",
      "Enter a digit (0–9) to test or Q to quit:  5\n"
     ]
    },
    {
     "name": "stdout",
     "output_type": "stream",
     "text": [
      "\n",
      "Input pattern:\n",
      "#####\n",
      "#....\n",
      "#....\n",
      "####.\n",
      "....#\n",
      "....#\n",
      "####.\n",
      "\n",
      "Output pattern:\n",
      ".####\n",
      "#...#\n",
      "#...#\n",
      "####.\n",
      "....#\n",
      "#...#\n",
      "####.\n"
     ]
    },
    {
     "name": "stdin",
     "output_type": "stream",
     "text": [
      "\n",
      "Enter a digit (0–9) to test or Q to quit:  6\n"
     ]
    },
    {
     "name": "stdout",
     "output_type": "stream",
     "text": [
      "\n",
      "Input pattern:\n",
      ".####\n",
      "#....\n",
      "#....\n",
      "####.\n",
      "#...#\n",
      "#...#\n",
      ".###.\n",
      "\n",
      "Output pattern:\n",
      ".####\n",
      "#...#\n",
      "#...#\n",
      "####.\n",
      "#...#\n",
      "#...#\n",
      ".###.\n"
     ]
    },
    {
     "name": "stdin",
     "output_type": "stream",
     "text": [
      "\n",
      "Enter a digit (0–9) to test or Q to quit:  7\n"
     ]
    },
    {
     "name": "stdout",
     "output_type": "stream",
     "text": [
      "\n",
      "Input pattern:\n",
      "#####\n",
      "....#\n",
      "...#.\n",
      "...#.\n",
      "..#..\n",
      "..#..\n",
      ".#...\n",
      "\n",
      "Output pattern:\n",
      "#####\n",
      "....#\n",
      ".....\n",
      "...#.\n",
      "..#..\n",
      "..#..\n",
      ".##..\n"
     ]
    },
    {
     "name": "stdin",
     "output_type": "stream",
     "text": [
      "\n",
      "Enter a digit (0–9) to test or Q to quit:  8\n"
     ]
    },
    {
     "name": "stdout",
     "output_type": "stream",
     "text": [
      "\n",
      "Input pattern:\n",
      ".###.\n",
      "#...#\n",
      "#...#\n",
      ".###.\n",
      "#...#\n",
      "#...#\n",
      ".###.\n",
      "\n",
      "Output pattern:\n",
      ".###.\n",
      "#...#\n",
      "#...#\n",
      ".###.\n",
      "....#\n",
      "#...#\n",
      ".###.\n"
     ]
    },
    {
     "name": "stdin",
     "output_type": "stream",
     "text": [
      "\n",
      "Enter a digit (0–9) to test or Q to quit:  9\n"
     ]
    },
    {
     "name": "stdout",
     "output_type": "stream",
     "text": [
      "\n",
      "Input pattern:\n",
      ".###.\n",
      "#...#\n",
      "#...#\n",
      ".####\n",
      "....#\n",
      "....#\n",
      "####.\n",
      "\n",
      "Output pattern:\n",
      ".###.\n",
      "#...#\n",
      "#...#\n",
      ".###.\n",
      "....#\n",
      "#...#\n",
      "####.\n"
     ]
    },
    {
     "name": "stdin",
     "output_type": "stream",
     "text": [
      "\n",
      "Enter a digit (0–9) to test or Q to quit:  Q\n"
     ]
    }
   ],
   "source": [
    "import numpy as np\n",
    "\n",
    "ROWS, COLS = 7, 5\n",
    "N = ROWS * COLS\n",
    "\n",
    "# ---------------------------------------------------\n",
    "# Digit patterns (0–9), using 0 = OFF (.), 1 = ON (#)\n",
    "# ---------------------------------------------------\n",
    "digit_patterns = {\n",
    "    \"0\": [\n",
    "        [1,1,1,1,1],\n",
    "        [1,0,0,0,1],\n",
    "        [1,0,0,0,1],\n",
    "        [1,0,0,0,1],\n",
    "        [1,0,0,0,1],\n",
    "        [1,0,0,0,1],\n",
    "        [1,1,1,1,1],\n",
    "    ],\n",
    "    \"1\": [\n",
    "        [0,0,1,0,0],\n",
    "        [0,1,1,0,0],\n",
    "        [0,0,1,0,0],\n",
    "        [0,0,1,0,0],\n",
    "        [0,0,1,0,0],\n",
    "        [0,0,1,0,0],\n",
    "        [0,0,1,0,0],\n",
    "    ],\n",
    "    \"2\": [\n",
    "        [0,1,1,1,0],\n",
    "        [1,0,0,0,1],\n",
    "        [0,0,0,0,1],\n",
    "        [0,0,0,1,0],\n",
    "        [0,0,1,0,0],\n",
    "        [0,1,0,0,0],\n",
    "        [1,1,1,1,1],\n",
    "    ],\n",
    "    \"3\": [\n",
    "        [0,1,1,1,0],\n",
    "        [1,0,0,0,1],\n",
    "        [0,0,0,0,1],\n",
    "        [0,0,1,1,0],\n",
    "        [0,0,0,0,1],\n",
    "        [1,0,0,0,1],\n",
    "        [0,1,1,1,0],\n",
    "    ],\n",
    "    \"4\": [\n",
    "        [0,0,0,0,1],\n",
    "        [0,0,0,1,1],\n",
    "        [0,0,1,0,1],\n",
    "        [0,1,0,0,1],\n",
    "        [1,1,1,1,1],\n",
    "        [0,0,0,0,1],\n",
    "        [0,0,0,0,1],\n",
    "    ],\n",
    "    \"5\": [\n",
    "        [1,1,1,1,1],\n",
    "        [1,0,0,0,0],\n",
    "        [1,0,0,0,0],\n",
    "        [1,1,1,1,0],\n",
    "        [0,0,0,0,1],\n",
    "        [0,0,0,0,1],\n",
    "        [1,1,1,1,0],\n",
    "    ],\n",
    "    \"6\": [\n",
    "        [0,1,1,1,1],\n",
    "        [1,0,0,0,0],\n",
    "        [1,0,0,0,0],\n",
    "        [1,1,1,1,0],\n",
    "        [1,0,0,0,1],\n",
    "        [1,0,0,0,1],\n",
    "        [0,1,1,1,0],\n",
    "    ],\n",
    "    \"7\": [\n",
    "        [1,1,1,1,1],\n",
    "        [0,0,0,0,1],\n",
    "        [0,0,0,1,0],\n",
    "        [0,0,0,1,0],\n",
    "        [0,0,1,0,0],\n",
    "        [0,0,1,0,0],\n",
    "        [0,1,0,0,0],\n",
    "    ],\n",
    "    \"8\": [\n",
    "        [0,1,1,1,0],\n",
    "        [1,0,0,0,1],\n",
    "        [1,0,0,0,1],\n",
    "        [0,1,1,1,0],\n",
    "        [1,0,0,0,1],\n",
    "        [1,0,0,0,1],\n",
    "        [0,1,1,1,0],\n",
    "    ],\n",
    "    \"9\": [\n",
    "        [0,1,1,1,0],\n",
    "        [1,0,0,0,1],\n",
    "        [1,0,0,0,1],\n",
    "        [0,1,1,1,1],\n",
    "        [0,0,0,0,1],\n",
    "        [0,0,0,0,1],\n",
    "        [1,1,1,1,0],\n",
    "    ],\n",
    "}\n",
    "\n",
    "# ---------------------------------------------------\n",
    "# Helper functions\n",
    "# ---------------------------------------------------\n",
    "def to_bipolar(arr): return np.where(arr == 1, 1, -1)\n",
    "def flatten(mat): return np.array(mat).reshape(N, 1)\n",
    "def reshape(vec): return np.where(vec.reshape(ROWS, COLS) == 1, 1, 0)\n",
    "\n",
    "def hebb_train(patterns):\n",
    "    W = np.zeros((N, N))\n",
    "    for p in patterns: W += p @ p.T\n",
    "    return W\n",
    "\n",
    "def iterative_recall(W, x, max_iter=10):\n",
    "    \"\"\"Iterative recall until convergence or max_iter.\"\"\"\n",
    "    state = x.copy()\n",
    "    for _ in range(max_iter):\n",
    "        new_state = np.sign(W @ state)\n",
    "        new_state[new_state == 0] = 1\n",
    "        if np.array_equal(new_state, state):\n",
    "            break\n",
    "        state = new_state\n",
    "    return state\n",
    "\n",
    "def display_pattern(vec):\n",
    "    mat = reshape(vec)\n",
    "    for row in mat:\n",
    "        print(\"\".join(\"#\" if v == 1 else \".\" for v in row))\n",
    "\n",
    "# Main Program\n",
    "\n",
    "def main():\n",
    "    print(\"Autoassociative Neural Network (Hebb Rule, Outer Product)\")\n",
    "    print(\"Training on digits 0–9...\")\n",
    "    \n",
    "    # Prepare training set\n",
    "    patterns = []\n",
    "    for d in digit_patterns.values():\n",
    "        mat = np.array(d, dtype=int)\n",
    "        patterns.append(flatten(to_bipolar(mat)))\n",
    "    \n",
    "    # Train and save weights\n",
    "    W = hebb_train(patterns)\n",
    "    np.save(\"hebb_digits.npy\", W)\n",
    "    print(\"Training complete. Weights saved to hebb_digits.npy\")\n",
    "\n",
    "    # Test loop\n",
    "    while True:\n",
    "        digit = input(\"\\nEnter a digit (0–9) to test or Q to quit: \").strip()\n",
    "        if digit.upper() == \"Q\":\n",
    "            break\n",
    "        if digit not in digit_patterns:\n",
    "            print(\"Invalid digit. Try again.\")\n",
    "            continue\n",
    "\n",
    "        mat = np.array(digit_patterns[digit], dtype=int)\n",
    "        x = flatten(to_bipolar(mat))\n",
    "\n",
    "        print(\"\\nInput pattern:\")\n",
    "        display_pattern(x)\n",
    "\n",
    "        y = recall(W, x)\n",
    "\n",
    "        print(\"\\nOutput pattern:\")\n",
    "        display_pattern(y)\n",
    "\n",
    "if __name__ == \"__main__\":\n",
    "    main()"
   ]
  },
  {
   "cell_type": "code",
   "execution_count": 1,
   "id": "798624a0-d162-45f9-8fda-997d74ffaf80",
   "metadata": {},
   "outputs": [
    {
     "name": "stdout",
     "output_type": "stream",
     "text": [
      "[WinError 3] The system cannot find the path specified: 'path/to/your/project'\n",
      "C:\\Users\\ram08\n"
     ]
    }
   ],
   "source": [
    "cd path/to/your/project\n"
   ]
  },
  {
   "cell_type": "code",
   "execution_count": null,
   "id": "684bf2e6-a492-4d24-9378-b70d3569a5c3",
   "metadata": {},
   "outputs": [],
   "source": []
  }
 ],
 "metadata": {
  "kernelspec": {
   "display_name": "Python [conda env:base] *",
   "language": "python",
   "name": "conda-base-py"
  },
  "language_info": {
   "codemirror_mode": {
    "name": "ipython",
    "version": 3
   },
   "file_extension": ".py",
   "mimetype": "text/x-python",
   "name": "python",
   "nbconvert_exporter": "python",
   "pygments_lexer": "ipython3",
   "version": "3.13.5"
  }
 },
 "nbformat": 4,
 "nbformat_minor": 5
}
