{
 "cells": [
  {
   "cell_type": "code",
   "execution_count": 1,
   "id": "89ea939c-b2d3-471d-834d-c37f65838469",
   "metadata": {},
   "outputs": [],
   "source": [
    "import numpy as np"
   ]
  },
  {
   "cell_type": "code",
   "execution_count": 11,
   "id": "fa4b4c93-e4a6-40b3-b074-7f63a15a20c1",
   "metadata": {},
   "outputs": [],
   "source": [
    "class Adaline:\n",
    "    def __init__(self, learning_rate=0.01, epochs=1):\n",
    "        self.lr = learning_rate\n",
    "        self.epochs = epochs\n",
    "        self.weights = None\n",
    "        self.bias = 0\n",
    "\n",
    "\n",
    "    def fit(self, X, y):\n",
    "        n_samples, n_features = X.shape\n",
    "        self.weights = np.zeros(n_features)\n",
    "        self.bias = 0\n",
    "\n",
    "\n",
    "        for _ in range(self.epochs): \n",
    "            for idx in range(n_samples):\n",
    "                net_input = np.dot(X[idx], self.weights) + self.bias\n",
    "                error = y[idx] - net_input\n",
    "                self.weights += self.lr * error * X[idx]\n",
    "                self.bias += self.lr * error\n",
    "\n",
    "\n",
    "    def predict(self, X):\n",
    "         net_input = np.dot(X, self.weights) + self.bias\n",
    "         return np.where(net_input >= 0.0, 1, 0)"
   ]
  },
  {
   "cell_type": "code",
   "execution_count": 15,
   "id": "ba4aabbe-15ce-48e4-bad5-4bd431b683f4",
   "metadata": {},
   "outputs": [],
   "source": [
    "X = np.array([[1,-1], [1,1], [-1,-1], [-1,1]])\n",
    "y = np.array([1, 1, -1, 1])"
   ]
  },
  {
   "cell_type": "code",
   "execution_count": 16,
   "id": "dae6f703-c8cb-4d44-b09e-5d98a3ac6f40",
   "metadata": {},
   "outputs": [],
   "source": [
    "adaline = Adaline(learning_rate=0.1, epochs=1)\n",
    "adaline.fit(X, y)"
   ]
  },
  {
   "cell_type": "code",
   "execution_count": 17,
   "id": "a7e9f88a-2f5f-4270-a08b-3816c3b74163",
   "metadata": {},
   "outputs": [
    {
     "name": "stdout",
     "output_type": "stream",
     "text": [
      "Final Weights: [0.1799 0.2021]\n",
      "Final Bias: 0.2001\n"
     ]
    }
   ],
   "source": [
    "print(\"Final Weights:\", adaline.weights)\n",
    "print(\"Final Bias:\", adaline.bias)"
   ]
  },
  {
   "cell_type": "code",
   "execution_count": 18,
   "id": "5886fb09-b6b1-4a30-ae95-1ee24cf535a6",
   "metadata": {},
   "outputs": [
    {
     "name": "stdout",
     "output_type": "stream",
     "text": [
      "Predictions: [1 1 0 1]\n",
      "Actual:  [ 1  1 -1  1]\n"
     ]
    }
   ],
   "source": [
    "predictions = adaline.predict(X)\n",
    "print(\"Predictions:\", predictions)\n",
    "print(\"Actual: \", y)"
   ]
  }
 ],
 "metadata": {
  "kernelspec": {
   "display_name": "Python [conda env:.conda-Ram_Babu]",
   "language": "python",
   "name": "conda-env-.conda-Ram_Babu-py"
  },
  "language_info": {
   "codemirror_mode": {
    "name": "ipython",
    "version": 3
   },
   "file_extension": ".py",
   "mimetype": "text/x-python",
   "name": "python",
   "nbconvert_exporter": "python",
   "pygments_lexer": "ipython3",
   "version": "3.13.5"
  }
 },
 "nbformat": 4,
 "nbformat_minor": 5
}
